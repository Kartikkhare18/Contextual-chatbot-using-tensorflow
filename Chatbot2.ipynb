{
 "cells": [
  {
   "cell_type": "code",
   "execution_count": 1,
   "metadata": {
    "colab": {
     "base_uri": "https://localhost:8080/"
    },
    "id": "r7YV9PhLYUiI",
    "outputId": "6366373c-ad80-4548-b0ad-feb579402226",
    "scrolled": true
   },
   "outputs": [
    {
     "name": "stderr",
     "output_type": "stream",
     "text": [
      "[nltk_data] Downloading package punkt to\n",
      "[nltk_data]     C:\\Users\\LENOVO\\AppData\\Roaming\\nltk_data...\n",
      "[nltk_data]   Package punkt is already up-to-date!\n"
     ]
    },
    {
     "name": "stdout",
     "output_type": "stream",
     "text": [
      "WARNING:tensorflow:From C:\\Users\\LENOVO\\anaconda3\\lib\\site-packages\\tensorflow\\python\\compat\\v2_compat.py:107: disable_resource_variables (from tensorflow.python.ops.variable_scope) is deprecated and will be removed in a future version.\n",
      "Instructions for updating:\n",
      "non-resource variables are not supported in the long term\n",
      "curses is not supported on this machine (please install/reinstall curses for an optimal experience)\n"
     ]
    }
   ],
   "source": [
    "# Libraries needed for NLP\n",
    "import nltk\n",
    "nltk.download('punkt')\n",
    "from nltk.stem.lancaster import LancasterStemmer\n",
    "stemmer = LancasterStemmer()\n",
    "\n",
    "# Libraries needed for Tensorflow processing\n",
    "import tensorflow as tf\n",
    "import numpy as np\n",
    "import tflearn\n",
    "import random\n",
    "import json"
   ]
  },
  {
   "cell_type": "code",
   "execution_count": 2,
   "metadata": {
    "colab": {
     "base_uri": "https://localhost:8080/"
    },
    "id": "uSaUoroyZ5D3",
    "outputId": "8186438e-c82d-422e-ed0c-f2ef40b2f1d8",
    "scrolled": true
   },
   "outputs": [],
   "source": [
    "import pandas as pd\n",
    "with open('intents.json') as json_data:\n",
    "    intents = json.load(json_data)"
   ]
  },
  {
   "cell_type": "code",
   "execution_count": 3,
   "metadata": {
    "id": "3p0J1Vy_a2Br"
   },
   "outputs": [
    {
     "data": {
      "text/plain": [
       "{'intents': [{'tag': 'greeting',\n",
       "   'patterns': ['Hi', 'Hello Amizone', 'Hello', 'Start'],\n",
       "   'responses': ['Hello, This is Amizone, How can we help you?'],\n",
       "   'context_set': ''},\n",
       "  {'tag': 'goodbye',\n",
       "   'patterns': ['Bye', 'See you later', 'Goodbye'],\n",
       "   'responses': ['See you later, thanks for visiting Amizone',\n",
       "    'Have a nice day',\n",
       "    'Bye! Come back again soon.']},\n",
       "  {'tag': 'thanks',\n",
       "   'patterns': ['Thanks', 'Thank you', \"That's helpful\"],\n",
       "   'responses': ['Happy to help!',\n",
       "    'Any time!',\n",
       "    'Our pleasure.',\n",
       "    'Glad we were useful.']},\n",
       "  {'tag': 'amizone',\n",
       "   'patterns': ['What is amizone?', 'What are you?'],\n",
       "   'responses': ['Amizone is a unique comprehensive Cloud-based Learning Management System. Students and Faculty continuously interact through Amizone one of the most hi-tech university intranet portals in the world that brings a world-class online experience for Amity students.']},\n",
       "  {'tag': 'attendance',\n",
       "   'patterns': ['What is the minimum attendance required for each subject?',\n",
       "    'How to check attendance?'],\n",
       "   'responses': ['You need atleast 75% attendance in every subject to avoid getting debarred. You can check your attendance for every course in the pie chart on the home section.']},\n",
       "  {'tag': 'courses',\n",
       "   'patterns': ['What are my courses in this semester?',\n",
       "    'How many courses do i have this semester?',\n",
       "    'Where can i find the list of all the courses for this semester?'],\n",
       "   'responses': [\"You can find all the details about your subjects/courses in 'My Courses' section in the side menu on the left.\"]},\n",
       "  {'tag': 'faculty',\n",
       "   'patterns': ['Which faculties will teach me this semester?',\n",
       "    'Which faculties are alloted to me?',\n",
       "    'Faculty',\n",
       "    'Faculties alloted for this semester'],\n",
       "   'responses': [\"You can find all the details about the faculty in 'My Faculty' section in the side menu on the left.\"]},\n",
       "  {'tag': 'todaystimetable',\n",
       "   'patterns': ['timetable'],\n",
       "   'responses': ['You can find the timetable on the home section of Amizone',\n",
       "    'You can check the timetable for today in the side menu on the left.']},\n",
       "  {'tag': 'classes',\n",
       "   'patterns': ['How many classes do i have to attend every day?',\n",
       "    'How many classes will there be in total?',\n",
       "    'Classes'],\n",
       "   'responses': ['There will be Classes from 9:15 A.M. till 5:10 P.M. with lunch break from 1:10 P.M. to 2:15 P.M., there will classes 5 days a week i.e. monday to friday.',\n",
       "    'You can check the timetable for today in drop down menu in the left side.']},\n",
       "  {'tag': 'fees',\n",
       "   'patterns': ['Fees'],\n",
       "   'responses': ['You can find the fees section in side menu on the left. Here you can find every related detail regarding fees.']},\n",
       "  {'tag': 'LMS',\n",
       "   'patterns': ['How can i access the LMS?',\n",
       "    'How can i access the lms?',\n",
       "    'Where is LMS?',\n",
       "    'Where is lms?',\n",
       "    'LMS',\n",
       "    'lms'],\n",
       "   'responses': ['Scroll down the home section of to access the LMS.']},\n",
       "  {'tag': 'registration',\n",
       "   'patterns': ['Registration for next semester',\n",
       "    'How to register for next semester?'],\n",
       "   'responses': ['You can register for next semester in side menu on the left.']},\n",
       "  {'tag': 'profile',\n",
       "   'patterns': ['profile'],\n",
       "   'responses': ['Go to the home section of Amizone and then on the navigation bar, then click on the right side of the bar to access your profile.']},\n",
       "  {'tag': 'hostel',\n",
       "   'patterns': ['whom should i contact to queries regarding hostel?',\n",
       "    'hostel'],\n",
       "   'responses': ['For Hostel related information click on the hostel section in the side menu on the left and register in it. You can also contact the class coordinator for more details.']},\n",
       "  {'tag': 'hostelhours',\n",
       "   'patterns': ['what are hostel hours?', 'Hostel hours'],\n",
       "   'responses': ['Hostellers are not allowed to go outside the university campus before 10:00 A.M. and after 8:00 A.M., to go outside the university campus the student must carry his/her ID card and fill up the entries at the university gate.']},\n",
       "  {'tag': 'notices',\n",
       "   'patterns': ['Notice', 'Is there any new notice?'],\n",
       "   'responses': ['You an check the bell icon on the navigation bar on the home secction of amizone for new notices.',\n",
       "    'Scroll down the home section for notices.']},\n",
       "  {'tag': 'wifi',\n",
       "   'patterns': ['How to enroll for wifi services in amity university?',\n",
       "    'wifi',\n",
       "    'wifi services'],\n",
       "   'responses': ['Contact the IT department about wifi registration at A-Block in the campus.']},\n",
       "  {'tag': 'examination',\n",
       "   'patterns': ['How to register for End semester exams?',\n",
       "    'Exam registration'],\n",
       "   'responses': ['Open the side menu on the left, click on Examination and then in the drop down menu click on Examination Form for registration.']},\n",
       "  {'tag': 'results',\n",
       "   'patterns': ['How to check the exam result?', 'result', 'Exam result'],\n",
       "   'responses': ['Open the side menu on the left, click on Examination and then in the drop down menu click on Examination Form for exam results.']},\n",
       "  {'tag': 'calendar',\n",
       "   'patterns': ['calendar'],\n",
       "   'responses': ['The calendar shows the daily classes and forthcoming happenings. You can access the calender section in the side menu on the left or click on the calendar icon on the navigation bar at the home section.']},\n",
       "  {'tag': 'Scholarship',\n",
       "   'patterns': ['scholarship'],\n",
       "   'responses': ['Contact your class coordinator.']},\n",
       "  {'tag': 'aboutus',\n",
       "   'patterns': ['about amity', 'about'],\n",
       "   'responses': ['https://www.amity.edu/gwalior/']},\n",
       "  {'tag': 'placement',\n",
       "   'patterns': [\"what was last year's placement record?\"],\n",
       "   'responses': ['https://www.amity.edu/gwalior/about-placements']},\n",
       "  {'tag': 'amityfaculty',\n",
       "   'patterns': ['Faculties of other departments', 'amity faculty'],\n",
       "   'responses': ['https://www.amity.edu/gwalior/about-faculty']},\n",
       "  {'tag': 'location',\n",
       "   'patterns': ['Where is amity university madhya pradesh?',\n",
       "    'amity university location',\n",
       "    'Where is amity university madhya pradesh situated? '],\n",
       "   'responses': ['https://www.google.com/maps/place/Amity+University/@26.2727152,78.226201,17z/data=!3m1!4b1!4m5!3m4!1s0x3976c0e647bece07:0xd848338a0d6a5393!8m2!3d26.2727152!4d78.2283897']}]}"
      ]
     },
     "execution_count": 3,
     "metadata": {},
     "output_type": "execute_result"
    }
   ],
   "source": [
    "intents"
   ]
  },
  {
   "cell_type": "code",
   "execution_count": 4,
   "metadata": {
    "id": "U3gWSS3Ta2E0"
   },
   "outputs": [],
   "source": [
    "words = []\n",
    "classes = []\n",
    "documents = []\n",
    "ignore = ['?']\n",
    "# loop through each sentence in the intent's patterns\n",
    "for intent in intents['intents']:\n",
    "    for pattern in intent['patterns']:\n",
    "        # tokenize each and every word in the sentence\n",
    "        w = nltk.word_tokenize(pattern)\n",
    "        # add word to the words list\n",
    "        words.extend(w)\n",
    "        # add word(s) to documents\n",
    "        documents.append((w, intent['tag']))\n",
    "        # add tags to our classes list\n",
    "        if intent['tag'] not in classes:\n",
    "            classes.append(intent['tag'])"
   ]
  },
  {
   "cell_type": "code",
   "execution_count": 5,
   "metadata": {
    "id": "IiEC-n2va2Hs"
   },
   "outputs": [
    {
     "name": "stdout",
     "output_type": "stream",
     "text": [
      "59 documents\n",
      "25 classes ['LMS', 'Scholarship', 'aboutus', 'amityfaculty', 'amizone', 'attendance', 'calendar', 'classes', 'courses', 'examination', 'faculty', 'fees', 'goodbye', 'greeting', 'hostel', 'hostelhours', 'location', 'notices', 'placement', 'profile', 'registration', 'results', 'thanks', 'todaystimetable', 'wifi']\n",
      "92 unique stemmed words [\"'s\", 'about', 'access', 'al', 'allot', 'am', 'amizon', 'any', 'ar', 'attend', 'be', 'bye', 'calend', 'can', 'check', 'class', 'contact', 'cours', 'day', 'depart', 'do', 'each', 'end', 'enrol', 'every', 'exam', 'facul', 'fee', 'find', 'for', 'goodby', 'hav', 'hello', 'help', 'hi', 'hostel', 'hour', 'how', 'i', 'in', 'is', 'last', 'lat', 'list', 'lms', 'loc', 'madhy', 'many', 'me', 'minim', 'my', 'new', 'next', 'not', 'of', 'oth', 'plac', 'pradesh', 'profil', 'query', 'record', 'reg', 'regard', 'requir', 'result', 'scholarship', 'see', 'semest', 'serv', 'should', 'situ', 'start', 'subject', 'teach', 'thank', 'that', 'the', 'ther', 'thi', 'timet', 'to', 'tot', 'univers', 'was', 'what', 'wher', 'which', 'whom', 'wif', 'wil', 'year', 'you']\n"
     ]
    }
   ],
   "source": [
    "# Perform stemming and lower each word as well as remove duplicates\n",
    "words = [stemmer.stem(w.lower()) for w in words if w not in ignore]\n",
    "words = sorted(list(set(words)))\n",
    "\n",
    "# remove duplicate classes\n",
    "classes = sorted(list(set(classes)))\n",
    "\n",
    "print (len(documents), \"documents\")\n",
    "print (len(classes), \"classes\", classes)\n",
    "print (len(words), \"unique stemmed words\", words)"
   ]
  },
  {
   "cell_type": "code",
   "execution_count": 6,
   "metadata": {
    "id": "KIts6pX9a2Ki"
   },
   "outputs": [
    {
     "name": "stderr",
     "output_type": "stream",
     "text": [
      "C:\\Users\\LENOVO\\AppData\\Local\\Temp\\ipykernel_42876\\1242873455.py:27: VisibleDeprecationWarning: Creating an ndarray from ragged nested sequences (which is a list-or-tuple of lists-or-tuples-or ndarrays with different lengths or shapes) is deprecated. If you meant to do this, you must specify 'dtype=object' when creating the ndarray.\n",
      "  training = np.array(training)\n"
     ]
    }
   ],
   "source": [
    "# create training data\n",
    "training = []\n",
    "output = []\n",
    "# create an empty array for output\n",
    "output_empty = [0] * len(classes)\n",
    "\n",
    "# create training set, bag of words for each sentence\n",
    "for doc in documents:\n",
    "    # initialize bag of words\n",
    "    bag = []\n",
    "    # list of tokenized words for the pattern\n",
    "    pattern_words = doc[0]\n",
    "    # stemming each word\n",
    "    pattern_words = [stemmer.stem(word.lower()) for word in pattern_words]\n",
    "    # create bag of words array\n",
    "    for w in words:\n",
    "        bag.append(1) if w in pattern_words else bag.append(0)\n",
    "\n",
    "    # output is '1' for current tag and '0' for rest of other tags\n",
    "    output_row = list(output_empty)\n",
    "    output_row[classes.index(doc[1])] = 1\n",
    "\n",
    "    training.append([bag, output_row])\n",
    "\n",
    "# shuffling features and turning it into np.array\n",
    "random.shuffle(training)\n",
    "training = np.array(training)\n",
    "\n",
    "# creating training lists\n",
    "train_x = list(training[:,0])\n",
    "train_y = list(training[:,1])"
   ]
  },
  {
   "cell_type": "code",
   "execution_count": 7,
   "metadata": {
    "id": "8y2KXsZ9a2OQ"
   },
   "outputs": [
    {
     "name": "stdout",
     "output_type": "stream",
     "text": [
      "Training Step: 7999  | total loss: \u001b[1m\u001b[32m0.04330\u001b[0m\u001b[0m | time: 0.050s\n",
      "| Adam | epoch: 1000 | loss: 0.04330 - acc: 0.9983 -- iter: 56/59\n",
      "Training Step: 8000  | total loss: \u001b[1m\u001b[32m0.04007\u001b[0m\u001b[0m | time: 0.066s\n",
      "| Adam | epoch: 1000 | loss: 0.04007 - acc: 0.9985 -- iter: 59/59\n",
      "--\n",
      "INFO:tensorflow:C:\\Users\\LENOVO\\SIP\\model.tflearn is not in all_model_checkpoint_paths. Manually adding it.\n",
      "INFO:tensorflow:C:\\Users\\LENOVO\\SIP\\model.tflearn.data-00000-of-00001\n",
      "INFO:tensorflow:0\n",
      "INFO:tensorflow:C:\\Users\\LENOVO\\SIP\\model.tflearn.index\n",
      "INFO:tensorflow:0\n",
      "INFO:tensorflow:C:\\Users\\LENOVO\\SIP\\model.tflearn.meta\n",
      "INFO:tensorflow:100\n"
     ]
    }
   ],
   "source": [
    "# resetting underlying graph data\n",
    "tf.compat.v1.reset_default_graph()\n",
    "\n",
    "# Building neural network\n",
    "net = tflearn.input_data(shape=[None, len(train_x[0])])\n",
    "net = tflearn.fully_connected(net, 10)\n",
    "net = tflearn.fully_connected(net, 10)\n",
    "net = tflearn.fully_connected(net, len(train_y[0]), activation='softmax')\n",
    "net = tflearn.regression(net)\n",
    "\n",
    "# Defining model and setting up tensorboard\n",
    "model = tflearn.DNN(net, tensorboard_dir='tflearn_logs')\n",
    "\n",
    "# Start training\n",
    "model.fit(train_x, train_y, n_epoch=1000, batch_size=8, show_metric=True)\n",
    "model.save('model.tflearn')"
   ]
  },
  {
   "cell_type": "code",
   "execution_count": 8,
   "metadata": {
    "id": "HyoBnx1Uasyf"
   },
   "outputs": [],
   "source": [
    "import pickle\n",
    "pickle.dump( {'words':words, 'classes':classes, 'train_x':train_x, 'train_y':train_y}, open( \"training_data\", \"wb\" ) )"
   ]
  },
  {
   "cell_type": "code",
   "execution_count": 9,
   "metadata": {
    "id": "NxcFVlYfe_LJ"
   },
   "outputs": [],
   "source": [
    "# restoring all the data structures\n",
    "data = pickle.load( open( \"training_data\", \"rb\" ) )\n",
    "words = data['words']\n",
    "classes = data['classes']\n",
    "train_x = data['train_x']\n",
    "train_y = data['train_y']"
   ]
  },
  {
   "cell_type": "code",
   "execution_count": 10,
   "metadata": {
    "id": "bRnV-gbme_Nf"
   },
   "outputs": [],
   "source": [
    "with open('intents.json') as json_data:\n",
    "    intents = json.load(json_data)"
   ]
  },
  {
   "cell_type": "code",
   "execution_count": 11,
   "metadata": {
    "id": "luRxkUaxe_Pg"
   },
   "outputs": [
    {
     "name": "stdout",
     "output_type": "stream",
     "text": [
      "INFO:tensorflow:Restoring parameters from C:\\Users\\LENOVO\\SIP\\model.tflearn\n"
     ]
    }
   ],
   "source": [
    "# load the saved model\n",
    "model.load('./model.tflearn')"
   ]
  },
  {
   "cell_type": "code",
   "execution_count": 12,
   "metadata": {
    "id": "NDeBy8e-e_R_"
   },
   "outputs": [],
   "source": [
    "def clean_up_sentence(sentence):\n",
    "    # tokenizing the pattern\n",
    "    sentence_words = nltk.word_tokenize(sentence)\n",
    "    # stemming each word\n",
    "    sentence_words = [stemmer.stem(word.lower()) for word in sentence_words]\n",
    "    return sentence_words\n",
    "\n",
    "# returning bag of words array: 0 or 1 for each word in the bag that exists in the sentence\n",
    "def bow(sentence, words, show_details=False):\n",
    "    # tokenizing the pattern\n",
    "    sentence_words = clean_up_sentence(sentence)\n",
    "    # generating bag of words\n",
    "    bag = [0]*len(words)  \n",
    "    for s in sentence_words:\n",
    "        for i,w in enumerate(words):\n",
    "            if w == s: \n",
    "                bag[i] = 1\n",
    "                if show_details:\n",
    "                    print (\"found in bag: %s\" % w)\n",
    "\n",
    "    return(np.array(bag))"
   ]
  },
  {
   "cell_type": "code",
   "execution_count": 13,
   "metadata": {
    "id": "ZqUCyMPke_UI"
   },
   "outputs": [],
   "source": [
    "ERROR_THRESHOLD = 0.30\n",
    "def classify(sentence):\n",
    "    # generate probabilities from the model\n",
    "    results = model.predict([bow(sentence, words)])[0]\n",
    "    # filter out predictions below a threshold\n",
    "    results = [[i,r] for i,r in enumerate(results) if r>ERROR_THRESHOLD]\n",
    "    # sort by strength of probability\n",
    "    results.sort(key=lambda x: x[1], reverse=True)\n",
    "    return_list = []\n",
    "    for r in results:\n",
    "        return_list.append((classes[r[0]], r[1]))\n",
    "    # return tuple of intent and probability\n",
    "    return return_list\n",
    "\n",
    "def response(sentence, userID='123', show_details=False):\n",
    "    results = classify(sentence)\n",
    "    # if we have a classification then find the matching intent tag\n",
    "    if results:\n",
    "        # loop as long as there are matches to process\n",
    "        while results:\n",
    "            for i in intents['intents']:\n",
    "                # find a tag matching the first result\n",
    "                if i['tag'] == results[0][0]:\n",
    "                    # a random response from the intent\n",
    "                    return print(random.choice(i['responses']))\n",
    "\n",
    "            results.pop(0)"
   ]
  },
  {
   "cell_type": "code",
   "execution_count": 14,
   "metadata": {
    "id": "1DABh4Zme_Xe"
   },
   "outputs": [
    {
     "data": {
      "text/plain": [
       "[('greeting', 0.98105097)]"
      ]
     },
     "execution_count": 14,
     "metadata": {},
     "output_type": "execute_result"
    }
   ],
   "source": [
    "classify('Hello')"
   ]
  },
  {
   "cell_type": "code",
   "execution_count": 15,
   "metadata": {
    "id": "5ok7zjwwe_ai"
   },
   "outputs": [
    {
     "name": "stdout",
     "output_type": "stream",
     "text": [
      "Amizone is a unique comprehensive Cloud-based Learning Management System. Students and Faculty continuously interact through Amizone one of the most hi-tech university intranet portals in the world that brings a world-class online experience for Amity students.\n"
     ]
    }
   ],
   "source": [
    "response('What is amizone?')"
   ]
  },
  {
   "cell_type": "code",
   "execution_count": 16,
   "metadata": {
    "id": "nityFECme_cf"
   },
   "outputs": [
    {
     "name": "stdout",
     "output_type": "stream",
     "text": [
      "You can find the timetable on the home section of Amizone\n"
     ]
    }
   ],
   "source": [
    "response('timetable')"
   ]
  },
  {
   "cell_type": "code",
   "execution_count": 17,
   "metadata": {
    "id": "ehajh4GlfW75"
   },
   "outputs": [
    {
     "name": "stdout",
     "output_type": "stream",
     "text": [
      "You can check the timetable for today in drop down menu in the left side.\n"
     ]
    }
   ],
   "source": [
    "#Some of other context free responses.\n",
    "response('classes')"
   ]
  },
  {
   "cell_type": "code",
   "execution_count": 18,
   "metadata": {
    "id": "np-SrcVrfW-r"
   },
   "outputs": [
    {
     "name": "stdout",
     "output_type": "stream",
     "text": [
      "You an check the bell icon on the navigation bar on the home secction of amizone for new notices.\n"
     ]
    }
   ],
   "source": [
    "response('Notice')"
   ]
  },
  {
   "cell_type": "code",
   "execution_count": 19,
   "metadata": {
    "id": "mLtOIL2FfXBk"
   },
   "outputs": [
    {
     "name": "stdout",
     "output_type": "stream",
     "text": [
      "You need atleast 75% attendance in every subject to avoid getting debarred. You can check your attendance for every course in the pie chart on the home section.\n"
     ]
    }
   ],
   "source": [
    "response('attendance')"
   ]
  },
  {
   "cell_type": "code",
   "execution_count": 20,
   "metadata": {
    "id": "62jgjgLhfXE0"
   },
   "outputs": [
    {
     "name": "stdout",
     "output_type": "stream",
     "text": [
      "See you later, thanks for visiting Amizone\n"
     ]
    }
   ],
   "source": [
    "response('Bye')"
   ]
  },
  {
   "cell_type": "code",
   "execution_count": 21,
   "metadata": {
    "id": "yO0x1ZxMfXIS"
   },
   "outputs": [],
   "source": [
    "#Adding some context to the conversation i.e. Contexualization for altering question and intents etc.\n",
    "# create a data structure to hold user context\n",
    "context = {}\n",
    "\n",
    "ERROR_THRESHOLD = 0.25\n",
    "def classify(sentence):\n",
    "    # generate probabilities from the model\n",
    "    results = model.predict([bow(sentence, words)])[0]\n",
    "    # filter out predictions below a threshold\n",
    "    results = [[i,r] for i,r in enumerate(results) if r>ERROR_THRESHOLD]\n",
    "    # sort by strength of probability\n",
    "    results.sort(key=lambda x: x[1], reverse=True)\n",
    "    return_list = []\n",
    "    for r in results:\n",
    "        return_list.append((classes[r[0]], r[1]))\n",
    "    # return tuple of intent and probability\n",
    "    return return_list\n",
    "\n",
    "def response(sentence, userID='123', show_details=False):\n",
    "    results = classify(sentence)\n",
    "    # if we have a classification then find the matching intent tag\n",
    "    if results:\n",
    "        # loop as long as there are matches to process\n",
    "        while results:\n",
    "            for i in intents['intents']:\n",
    "                # find a tag matching the first result\n",
    "                if i['tag'] == results[0][0]:\n",
    "                    # set context for this intent if necessary\n",
    "                    if 'context_set' in i:\n",
    "                        if show_details: print ('context:', i['context_set'])\n",
    "                        context[userID] = i['context_set']\n",
    "\n",
    "                    # check if this intent is contextual and applies to this user's conversation\n",
    "                    if not 'context_filter' in i or \\\n",
    "                        (userID in context and 'context_filter' in i and i['context_filter'] == context[userID]):\n",
    "                        if show_details: print ('tag:', i['tag'])\n",
    "                        # a random response from the intent\n",
    "                        return print(random.choice(i['responses']))\n",
    "\n",
    "            results.pop(0)"
   ]
  },
  {
   "cell_type": "code",
   "execution_count": 22,
   "metadata": {
    "id": "FBCmTE_0fwxT"
   },
   "outputs": [
    {
     "name": "stdout",
     "output_type": "stream",
     "text": [
      "You can register for next semester in side menu on the left.\n"
     ]
    }
   ],
   "source": [
    "response('How to register for next semester?')"
   ]
  },
  {
   "cell_type": "code",
   "execution_count": 23,
   "metadata": {
    "id": "A6RsfByMfw0F"
   },
   "outputs": [
    {
     "name": "stdout",
     "output_type": "stream",
     "text": [
      "Open the side menu on the left, click on Examination and then in the drop down menu click on Examination Form for registration.\n"
     ]
    }
   ],
   "source": [
    "response('Exam registration')"
   ]
  },
  {
   "cell_type": "code",
   "execution_count": 24,
   "metadata": {
    "id": "ma_lUsX3nSbl"
   },
   "outputs": [
    {
     "name": "stdout",
     "output_type": "stream",
     "text": [
      "You can find all the details about your subjects/courses in 'My Courses' section in the side menu on the left.\n"
     ]
    }
   ],
   "source": [
    "response('What are my courses in this semester?')"
   ]
  },
  {
   "cell_type": "code",
   "execution_count": 25,
   "metadata": {
    "id": "Qwuxxtahn9lC"
   },
   "outputs": [
    {
     "name": "stdout",
     "output_type": "stream",
     "text": [
      "https://www.amity.edu/gwalior/about-placements\n"
     ]
    }
   ],
   "source": [
    "response(\"what was last year's placement record?\")"
   ]
  },
  {
   "cell_type": "code",
   "execution_count": 26,
   "metadata": {
    "id": "zlXMGeBRndzH"
   },
   "outputs": [
    {
     "name": "stdout",
     "output_type": "stream",
     "text": [
      "You can find all the details about the faculty in 'My Faculty' section in the side menu on the left.\n"
     ]
    }
   ],
   "source": [
    "response('Which faculties are alloted to me?')"
   ]
  },
  {
   "cell_type": "code",
   "execution_count": 27,
   "metadata": {
    "id": "pdvZ89zfoInq"
   },
   "outputs": [
    {
     "name": "stdout",
     "output_type": "stream",
     "text": [
      "https://www.amity.edu/gwalior/about-faculty\n"
     ]
    }
   ],
   "source": [
    "response('amity faculty')"
   ]
  },
  {
   "cell_type": "code",
   "execution_count": 28,
   "metadata": {
    "id": "lmrbRWyDfw2r"
   },
   "outputs": [
    {
     "data": {
      "text/plain": [
       "{}"
      ]
     },
     "execution_count": 28,
     "metadata": {},
     "output_type": "execute_result"
    }
   ],
   "source": [
    "context"
   ]
  },
  {
   "cell_type": "code",
   "execution_count": 29,
   "metadata": {
    "id": "rHSaTQQkfw5H"
   },
   "outputs": [
    {
     "name": "stdout",
     "output_type": "stream",
     "text": [
      "context: \n",
      "tag: greeting\n",
      "Hello, This is Amizone, How can we help you?\n"
     ]
    }
   ],
   "source": [
    "response(\"Hello\", show_details=True)"
   ]
  }
 ],
 "metadata": {
  "colab": {
   "collapsed_sections": [],
   "provenance": []
  },
  "kernelspec": {
   "display_name": "Python 3 (ipykernel)",
   "language": "python",
   "name": "python3"
  },
  "language_info": {
   "codemirror_mode": {
    "name": "ipython",
    "version": 3
   },
   "file_extension": ".py",
   "mimetype": "text/x-python",
   "name": "python",
   "nbconvert_exporter": "python",
   "pygments_lexer": "ipython3",
   "version": "3.9.12"
  }
 },
 "nbformat": 4,
 "nbformat_minor": 1
}
